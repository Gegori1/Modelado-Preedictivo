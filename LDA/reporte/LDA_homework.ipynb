{
 "cells": [
  {
   "cell_type": "code",
   "execution_count": null,
   "metadata": {},
   "outputs": [],
   "source": []
  },
  {
   "cell_type": "markdown",
   "metadata": {},
   "source": [
    "### Import libraries"
   ]
  },
  {
   "cell_type": "code",
   "execution_count": 117,
   "metadata": {},
   "outputs": [],
   "source": [
    "import os\n",
    "# data processing\n",
    "import pandas as pd\n",
    "import numpy as np\n",
    "# visualization\n",
    "import matplotlib.pyplot as plt\n",
    "import seaborn as sns\n",
    "# data science\n",
    "from sklearn.model_selection import train_test_split\n",
    "from sklearn.linear_model import LogisticRegression\n",
    "from sklearn.metrics import confusion_matrix\n",
    "from sklearn.discriminant_analysis import LinearDiscriminantAnalysis as LDA\n",
    "from sklearn.decomposition import PCA\n",
    "from sklearn.preprocessing import StandardScaler"
   ]
  },
  {
   "cell_type": "code",
   "execution_count": 164,
   "metadata": {},
   "outputs": [],
   "source": [
    "class DataProcessing:\n",
    "    \"\"\"\n",
    "    Data processing class\n",
    "    - create dummies\n",
    "    - scale\n",
    "    - process (scale, create dummies, split)\n",
    "    \"\"\"\n",
    "\n",
    "    def __init__(self, data: pd.DataFrame, target: str, test_size: float, seed: int):\n",
    "        self.data = data\n",
    "        self.target = target\n",
    "        self.test_size = test_size\n",
    "        self.seed = seed\n",
    "\n",
    "    def create_dummies(self, cols: list, drop_first: bool=True) -> pd.DataFrame:\n",
    "        \"\"\"\n",
    "        Create dummy variables from categorical variables\n",
    "        \"\"\"\n",
    "        if not isinstance(cols, list):\n",
    "            cols = [cols]\n",
    "        for col in cols:\n",
    "            data_dummies = pd.get_dummies(self.data[col], prefix=col, drop_first=drop_first).astype(int)\n",
    "            self.data = pd.concat([self.data, data_dummies], axis=1)\n",
    "        self.data = self.data.drop(cols, axis=1)\n",
    "        return self.data\n",
    "\n",
    "\n",
    "    def split(self, data: pd.DataFrame):\n",
    "        \"\"\"\n",
    "        Split data into train and test\n",
    "        \"\"\"\n",
    "        data_train, data_test = train_test_split(\n",
    "            data, test_size=self.test_size, random_state=self.seed\n",
    "        )\n",
    "        return data_train, data_test\n",
    "    \n",
    "    def scale_split(self, cols: list) -> pd.DataFrame:\n",
    "        \"\"\"\n",
    "        Scale ordinal variables\n",
    "        \"\"\"\n",
    "        if not isinstance(cols, list):\n",
    "            cols = [cols]\n",
    "        # standardizer\n",
    "        scaler = StandardScaler()\n",
    "        scaler.set_output(transform=\"pandas\")\n",
    "        # split\n",
    "        data_train, data_test = self.split(self.data)\n",
    "        # fit and transform\n",
    "        for col in cols:\n",
    "            data_train[col] = scaler.fit_transform(data_train[[col]])\n",
    "            data_test[col] = scaler.transform(data_test[[col]])\n",
    "        self.data = pd.concat([data_train, data_test], axis=0)\n",
    "        return self.data\n",
    "\n",
    "    def process(self, col_card: list, col_ord: list):\n",
    "        \"\"\"\n",
    "        Process data\n",
    "        \"\"\"\n",
    "        # scale\n",
    "        self.scale_split(cols=col_ord)\n",
    "        # create dummies\n",
    "        self.create_dummies(cols=col_card)\n",
    "        # split\n",
    "        X_train, X_test = self.split(self.data.drop(self.target, axis=1))\n",
    "\n",
    "        y_train, y_test = self.split(self.data[[self.target]])\n",
    "\n",
    "        return X_train, X_test, y_train, y_test"
   ]
  },
  {
   "cell_type": "code",
   "execution_count": 165,
   "metadata": {},
   "outputs": [],
   "source": [
    "def selection_by_corr(dataset, threshold):\n",
    "    corr_ = (dataset.corr() * -(np.identity(dataset.shape[1]) - 1)).abs()\n",
    "    while corr_.max().max() > threshold:\n",
    "        args = np.unravel_index(corr_.to_numpy().argmax(), corr_.shape)\n",
    "        if corr_.iloc[args[0], :].mean() > corr_.iloc[:, args[1]].mean():\n",
    "            name_drop = corr_.iloc[args[0], :].name\n",
    "            corr_.drop(name_drop, axis=1, inplace=True)\n",
    "            corr_.drop(name_drop, axis=0, inplace=True)\n",
    "        else:\n",
    "            name_drop = corr_.iloc[:, args[1]].name\n",
    "            corr_.drop(name_drop, axis=1, inplace=True)\n",
    "            corr_.drop(name_drop, axis=0, inplace=True)\n",
    "    return corr_.columns.values"
   ]
  },
  {
   "cell_type": "code",
   "execution_count": 166,
   "metadata": {},
   "outputs": [
    {
     "data": {
      "text/plain": [
       "['processed_cleveland.data']"
      ]
     },
     "execution_count": 166,
     "metadata": {},
     "output_type": "execute_result"
    }
   ],
   "source": [
    "[i for i in os.listdir(\"data\") if i.endswith(\".data\")]"
   ]
  },
  {
   "cell_type": "markdown",
   "metadata": {},
   "source": [
    "### Variables"
   ]
  },
  {
   "cell_type": "code",
   "execution_count": 167,
   "metadata": {},
   "outputs": [],
   "source": [
    "path = \"data/processed_cleveland.data\"\n",
    "seed = 42\n",
    "split_size = 0.3"
   ]
  },
  {
   "cell_type": "markdown",
   "metadata": {},
   "source": [
    "## Análisis"
   ]
  },
  {
   "cell_type": "markdown",
   "metadata": {},
   "source": [
    "### Import data"
   ]
  },
  {
   "cell_type": "code",
   "execution_count": 168,
   "metadata": {},
   "outputs": [],
   "source": [
    "names = [\n",
    "    'age','sex','cp','trestbps','chol','fbs','restecg','thalach','exang',\n",
    "    'oldpeak','slope','ca','thal','num'\n",
    "]"
   ]
  },
  {
   "cell_type": "code",
   "execution_count": 169,
   "metadata": {},
   "outputs": [],
   "source": [
    "data = pd.read_csv(path, header=None)\n",
    "data.columns = names"
   ]
  },
  {
   "cell_type": "code",
   "execution_count": 170,
   "metadata": {},
   "outputs": [
    {
     "data": {
      "text/html": [
       "<div>\n",
       "<style scoped>\n",
       "    .dataframe tbody tr th:only-of-type {\n",
       "        vertical-align: middle;\n",
       "    }\n",
       "\n",
       "    .dataframe tbody tr th {\n",
       "        vertical-align: top;\n",
       "    }\n",
       "\n",
       "    .dataframe thead th {\n",
       "        text-align: right;\n",
       "    }\n",
       "</style>\n",
       "<table border=\"1\" class=\"dataframe\">\n",
       "  <thead>\n",
       "    <tr style=\"text-align: right;\">\n",
       "      <th></th>\n",
       "      <th>age</th>\n",
       "      <th>sex</th>\n",
       "      <th>cp</th>\n",
       "      <th>trestbps</th>\n",
       "      <th>chol</th>\n",
       "      <th>fbs</th>\n",
       "      <th>restecg</th>\n",
       "      <th>thalach</th>\n",
       "      <th>exang</th>\n",
       "      <th>oldpeak</th>\n",
       "      <th>slope</th>\n",
       "      <th>ca</th>\n",
       "      <th>thal</th>\n",
       "      <th>num</th>\n",
       "    </tr>\n",
       "  </thead>\n",
       "  <tbody>\n",
       "    <tr>\n",
       "      <th>291</th>\n",
       "      <td>55.0</td>\n",
       "      <td>0.0</td>\n",
       "      <td>2.0</td>\n",
       "      <td>132.0</td>\n",
       "      <td>342.0</td>\n",
       "      <td>0.0</td>\n",
       "      <td>0.0</td>\n",
       "      <td>166.0</td>\n",
       "      <td>0.0</td>\n",
       "      <td>1.2</td>\n",
       "      <td>1.0</td>\n",
       "      <td>0.0</td>\n",
       "      <td>3.0</td>\n",
       "      <td>0</td>\n",
       "    </tr>\n",
       "    <tr>\n",
       "      <th>141</th>\n",
       "      <td>59.0</td>\n",
       "      <td>1.0</td>\n",
       "      <td>1.0</td>\n",
       "      <td>170.0</td>\n",
       "      <td>288.0</td>\n",
       "      <td>0.0</td>\n",
       "      <td>2.0</td>\n",
       "      <td>159.0</td>\n",
       "      <td>0.0</td>\n",
       "      <td>0.2</td>\n",
       "      <td>2.0</td>\n",
       "      <td>0.0</td>\n",
       "      <td>7.0</td>\n",
       "      <td>1</td>\n",
       "    </tr>\n",
       "    <tr>\n",
       "      <th>281</th>\n",
       "      <td>47.0</td>\n",
       "      <td>1.0</td>\n",
       "      <td>3.0</td>\n",
       "      <td>130.0</td>\n",
       "      <td>253.0</td>\n",
       "      <td>0.0</td>\n",
       "      <td>0.0</td>\n",
       "      <td>179.0</td>\n",
       "      <td>0.0</td>\n",
       "      <td>0.0</td>\n",
       "      <td>1.0</td>\n",
       "      <td>0.0</td>\n",
       "      <td>3.0</td>\n",
       "      <td>0</td>\n",
       "    </tr>\n",
       "    <tr>\n",
       "      <th>260</th>\n",
       "      <td>44.0</td>\n",
       "      <td>0.0</td>\n",
       "      <td>3.0</td>\n",
       "      <td>118.0</td>\n",
       "      <td>242.0</td>\n",
       "      <td>0.0</td>\n",
       "      <td>0.0</td>\n",
       "      <td>149.0</td>\n",
       "      <td>0.0</td>\n",
       "      <td>0.3</td>\n",
       "      <td>2.0</td>\n",
       "      <td>1.0</td>\n",
       "      <td>3.0</td>\n",
       "      <td>0</td>\n",
       "    </tr>\n",
       "    <tr>\n",
       "      <th>245</th>\n",
       "      <td>67.0</td>\n",
       "      <td>1.0</td>\n",
       "      <td>4.0</td>\n",
       "      <td>120.0</td>\n",
       "      <td>237.0</td>\n",
       "      <td>0.0</td>\n",
       "      <td>0.0</td>\n",
       "      <td>71.0</td>\n",
       "      <td>0.0</td>\n",
       "      <td>1.0</td>\n",
       "      <td>2.0</td>\n",
       "      <td>0.0</td>\n",
       "      <td>3.0</td>\n",
       "      <td>2</td>\n",
       "    </tr>\n",
       "  </tbody>\n",
       "</table>\n",
       "</div>"
      ],
      "text/plain": [
       "      age  sex   cp  trestbps   chol  fbs  restecg  thalach  exang  oldpeak  \\\n",
       "291  55.0  0.0  2.0     132.0  342.0  0.0      0.0    166.0    0.0      1.2   \n",
       "141  59.0  1.0  1.0     170.0  288.0  0.0      2.0    159.0    0.0      0.2   \n",
       "281  47.0  1.0  3.0     130.0  253.0  0.0      0.0    179.0    0.0      0.0   \n",
       "260  44.0  0.0  3.0     118.0  242.0  0.0      0.0    149.0    0.0      0.3   \n",
       "245  67.0  1.0  4.0     120.0  237.0  0.0      0.0     71.0    0.0      1.0   \n",
       "\n",
       "     slope   ca thal  num  \n",
       "291    1.0  0.0  3.0    0  \n",
       "141    2.0  0.0  7.0    1  \n",
       "281    1.0  0.0  3.0    0  \n",
       "260    2.0  1.0  3.0    0  \n",
       "245    2.0  0.0  3.0    2  "
      ]
     },
     "execution_count": 170,
     "metadata": {},
     "output_type": "execute_result"
    }
   ],
   "source": [
    "data.sample(5)"
   ]
  },
  {
   "cell_type": "code",
   "execution_count": 171,
   "metadata": {},
   "outputs": [
    {
     "name": "stdout",
     "output_type": "stream",
     "text": [
      "<class 'pandas.core.frame.DataFrame'>\n",
      "RangeIndex: 303 entries, 0 to 302\n",
      "Data columns (total 14 columns):\n",
      " #   Column    Non-Null Count  Dtype  \n",
      "---  ------    --------------  -----  \n",
      " 0   age       303 non-null    float64\n",
      " 1   sex       303 non-null    float64\n",
      " 2   cp        303 non-null    float64\n",
      " 3   trestbps  303 non-null    float64\n",
      " 4   chol      303 non-null    float64\n",
      " 5   fbs       303 non-null    float64\n",
      " 6   restecg   303 non-null    float64\n",
      " 7   thalach   303 non-null    float64\n",
      " 8   exang     303 non-null    float64\n",
      " 9   oldpeak   303 non-null    float64\n",
      " 10  slope     303 non-null    float64\n",
      " 11  ca        303 non-null    object \n",
      " 12  thal      303 non-null    object \n",
      " 13  num       303 non-null    int64  \n",
      "dtypes: float64(11), int64(1), object(2)\n",
      "memory usage: 33.3+ KB\n"
     ]
    }
   ],
   "source": [
    "data.info()"
   ]
  },
  {
   "cell_type": "markdown",
   "metadata": {},
   "source": [
    "### Format processing"
   ]
  },
  {
   "cell_type": "code",
   "execution_count": 172,
   "metadata": {},
   "outputs": [
    {
     "data": {
      "text/html": [
       "<div>\n",
       "<style scoped>\n",
       "    .dataframe tbody tr th:only-of-type {\n",
       "        vertical-align: middle;\n",
       "    }\n",
       "\n",
       "    .dataframe tbody tr th {\n",
       "        vertical-align: top;\n",
       "    }\n",
       "\n",
       "    .dataframe thead th {\n",
       "        text-align: right;\n",
       "    }\n",
       "</style>\n",
       "<table border=\"1\" class=\"dataframe\">\n",
       "  <thead>\n",
       "    <tr style=\"text-align: right;\">\n",
       "      <th></th>\n",
       "      <th>age</th>\n",
       "      <th>sex</th>\n",
       "      <th>cp</th>\n",
       "      <th>trestbps</th>\n",
       "      <th>chol</th>\n",
       "      <th>fbs</th>\n",
       "      <th>restecg</th>\n",
       "      <th>thalach</th>\n",
       "      <th>exang</th>\n",
       "      <th>oldpeak</th>\n",
       "      <th>slope</th>\n",
       "      <th>ca</th>\n",
       "      <th>thal</th>\n",
       "      <th>num</th>\n",
       "    </tr>\n",
       "  </thead>\n",
       "  <tbody>\n",
       "    <tr>\n",
       "      <th>87</th>\n",
       "      <td>53.0</td>\n",
       "      <td>0.0</td>\n",
       "      <td>3.0</td>\n",
       "      <td>128.0</td>\n",
       "      <td>216.0</td>\n",
       "      <td>0.0</td>\n",
       "      <td>2.0</td>\n",
       "      <td>115.0</td>\n",
       "      <td>0.0</td>\n",
       "      <td>0.0</td>\n",
       "      <td>1.0</td>\n",
       "      <td>0.0</td>\n",
       "      <td>?</td>\n",
       "      <td>0</td>\n",
       "    </tr>\n",
       "    <tr>\n",
       "      <th>166</th>\n",
       "      <td>52.0</td>\n",
       "      <td>1.0</td>\n",
       "      <td>3.0</td>\n",
       "      <td>138.0</td>\n",
       "      <td>223.0</td>\n",
       "      <td>0.0</td>\n",
       "      <td>0.0</td>\n",
       "      <td>169.0</td>\n",
       "      <td>0.0</td>\n",
       "      <td>0.0</td>\n",
       "      <td>1.0</td>\n",
       "      <td>?</td>\n",
       "      <td>3.0</td>\n",
       "      <td>0</td>\n",
       "    </tr>\n",
       "    <tr>\n",
       "      <th>192</th>\n",
       "      <td>43.0</td>\n",
       "      <td>1.0</td>\n",
       "      <td>4.0</td>\n",
       "      <td>132.0</td>\n",
       "      <td>247.0</td>\n",
       "      <td>1.0</td>\n",
       "      <td>2.0</td>\n",
       "      <td>143.0</td>\n",
       "      <td>1.0</td>\n",
       "      <td>0.1</td>\n",
       "      <td>2.0</td>\n",
       "      <td>?</td>\n",
       "      <td>7.0</td>\n",
       "      <td>1</td>\n",
       "    </tr>\n",
       "    <tr>\n",
       "      <th>266</th>\n",
       "      <td>52.0</td>\n",
       "      <td>1.0</td>\n",
       "      <td>4.0</td>\n",
       "      <td>128.0</td>\n",
       "      <td>204.0</td>\n",
       "      <td>1.0</td>\n",
       "      <td>0.0</td>\n",
       "      <td>156.0</td>\n",
       "      <td>1.0</td>\n",
       "      <td>1.0</td>\n",
       "      <td>2.0</td>\n",
       "      <td>0.0</td>\n",
       "      <td>?</td>\n",
       "      <td>2</td>\n",
       "    </tr>\n",
       "    <tr>\n",
       "      <th>287</th>\n",
       "      <td>58.0</td>\n",
       "      <td>1.0</td>\n",
       "      <td>2.0</td>\n",
       "      <td>125.0</td>\n",
       "      <td>220.0</td>\n",
       "      <td>0.0</td>\n",
       "      <td>0.0</td>\n",
       "      <td>144.0</td>\n",
       "      <td>0.0</td>\n",
       "      <td>0.4</td>\n",
       "      <td>2.0</td>\n",
       "      <td>?</td>\n",
       "      <td>7.0</td>\n",
       "      <td>0</td>\n",
       "    </tr>\n",
       "    <tr>\n",
       "      <th>302</th>\n",
       "      <td>38.0</td>\n",
       "      <td>1.0</td>\n",
       "      <td>3.0</td>\n",
       "      <td>138.0</td>\n",
       "      <td>175.0</td>\n",
       "      <td>0.0</td>\n",
       "      <td>0.0</td>\n",
       "      <td>173.0</td>\n",
       "      <td>0.0</td>\n",
       "      <td>0.0</td>\n",
       "      <td>1.0</td>\n",
       "      <td>?</td>\n",
       "      <td>3.0</td>\n",
       "      <td>0</td>\n",
       "    </tr>\n",
       "  </tbody>\n",
       "</table>\n",
       "</div>"
      ],
      "text/plain": [
       "      age  sex   cp  trestbps   chol  fbs  restecg  thalach  exang  oldpeak  \\\n",
       "87   53.0  0.0  3.0     128.0  216.0  0.0      2.0    115.0    0.0      0.0   \n",
       "166  52.0  1.0  3.0     138.0  223.0  0.0      0.0    169.0    0.0      0.0   \n",
       "192  43.0  1.0  4.0     132.0  247.0  1.0      2.0    143.0    1.0      0.1   \n",
       "266  52.0  1.0  4.0     128.0  204.0  1.0      0.0    156.0    1.0      1.0   \n",
       "287  58.0  1.0  2.0     125.0  220.0  0.0      0.0    144.0    0.0      0.4   \n",
       "302  38.0  1.0  3.0     138.0  175.0  0.0      0.0    173.0    0.0      0.0   \n",
       "\n",
       "     slope   ca thal  num  \n",
       "87     1.0  0.0    ?    0  \n",
       "166    1.0    ?  3.0    0  \n",
       "192    2.0    ?  7.0    1  \n",
       "266    2.0  0.0    ?    2  \n",
       "287    2.0    ?  7.0    0  \n",
       "302    1.0    ?  3.0    0  "
      ]
     },
     "execution_count": 172,
     "metadata": {},
     "output_type": "execute_result"
    }
   ],
   "source": [
    "data[data[data == \"?\"].notnull().any(axis=1)]"
   ]
  },
  {
   "cell_type": "markdown",
   "metadata": {},
   "source": [
    "Existen datos en ca y thal que son ?. \n",
    "\n",
    "Estas entradas representan 6/303 = 0.019 -> 1.9%\n",
    "\n",
    "Se removeran estas entradas"
   ]
  },
  {
   "cell_type": "code",
   "execution_count": 173,
   "metadata": {},
   "outputs": [],
   "source": [
    "data = (\n",
    "    data\n",
    "    .query(\"ca != '?' and thal != '?'\")\n",
    "    .assign(\n",
    "        ca = lambda k: k.ca.astype(float),\n",
    "        thal = lambda k: k.thal.astype(float),\n",
    "        num = lambda k: np.where(k.num > 0, 1, 0)\n",
    "    )\n",
    ")"
   ]
  },
  {
   "cell_type": "code",
   "execution_count": 174,
   "metadata": {},
   "outputs": [],
   "source": [
    "data = (\n",
    "    data\n",
    "    .assign(\n",
    "        sex = lambda k: k.sex.astype(\"category\"),\n",
    "        cp = lambda k: k.cp.astype(\"category\"),\n",
    "        exang = lambda k: k.exang.astype(\"category\"),\n",
    "        slope = lambda k: k.slope.astype(\"category\"),\n",
    "        thal = lambda k: k.thal.astype(\"category\")\n",
    "    )\n",
    ")"
   ]
  },
  {
   "cell_type": "code",
   "execution_count": 175,
   "metadata": {},
   "outputs": [],
   "source": [
    "X_train, X_test, y_train, y_test = train_test_split(\n",
    "    data.drop(\"num\", axis=1), data[[\"num\"]], test_size=split_size, random_state=seed\n",
    ")"
   ]
  },
  {
   "cell_type": "code",
   "execution_count": 176,
   "metadata": {},
   "outputs": [],
   "source": [
    "# categorical variables\n",
    "X_train_cat = X_train.select_dtypes(include=\"category\")\n",
    "# ordinal variables\n",
    "X_train_ord = X_train.select_dtypes(include=np.number)"
   ]
  },
  {
   "cell_type": "markdown",
   "metadata": {},
   "source": [
    "### Calculate correlation"
   ]
  },
  {
   "cell_type": "code",
   "execution_count": 177,
   "metadata": {},
   "outputs": [
    {
     "data": {
      "text/html": [
       "<style type=\"text/css\">\n",
       "#T_8c7c5_row0_col0, #T_8c7c5_row1_col1, #T_8c7c5_row2_col2, #T_8c7c5_row3_col3, #T_8c7c5_row4_col4 {\n",
       "  background-color: #b40426;\n",
       "  color: #f1f1f1;\n",
       "}\n",
       "#T_8c7c5_row0_col1, #T_8c7c5_row0_col2, #T_8c7c5_row0_col3, #T_8c7c5_row3_col0, #T_8c7c5_row3_col4 {\n",
       "  background-color: #3b4cc0;\n",
       "  color: #f1f1f1;\n",
       "}\n",
       "#T_8c7c5_row0_col4 {\n",
       "  background-color: #92b4fe;\n",
       "  color: #000000;\n",
       "}\n",
       "#T_8c7c5_row1_col0 {\n",
       "  background-color: #4a63d3;\n",
       "  color: #f1f1f1;\n",
       "}\n",
       "#T_8c7c5_row1_col2 {\n",
       "  background-color: #a1c0ff;\n",
       "  color: #000000;\n",
       "}\n",
       "#T_8c7c5_row1_col3 {\n",
       "  background-color: #6282ea;\n",
       "  color: #f1f1f1;\n",
       "}\n",
       "#T_8c7c5_row1_col4, #T_8c7c5_row4_col2 {\n",
       "  background-color: #6687ed;\n",
       "  color: #f1f1f1;\n",
       "}\n",
       "#T_8c7c5_row2_col0 {\n",
       "  background-color: #6f92f3;\n",
       "  color: #f1f1f1;\n",
       "}\n",
       "#T_8c7c5_row2_col1 {\n",
       "  background-color: #bcd2f7;\n",
       "  color: #000000;\n",
       "}\n",
       "#T_8c7c5_row2_col3 {\n",
       "  background-color: #779af7;\n",
       "  color: #f1f1f1;\n",
       "}\n",
       "#T_8c7c5_row2_col4 {\n",
       "  background-color: #6a8bef;\n",
       "  color: #f1f1f1;\n",
       "}\n",
       "#T_8c7c5_row3_col1 {\n",
       "  background-color: #536edd;\n",
       "  color: #f1f1f1;\n",
       "}\n",
       "#T_8c7c5_row3_col2 {\n",
       "  background-color: #4358cb;\n",
       "  color: #f1f1f1;\n",
       "}\n",
       "#T_8c7c5_row4_col0 {\n",
       "  background-color: #bad0f8;\n",
       "  color: #000000;\n",
       "}\n",
       "#T_8c7c5_row4_col1 {\n",
       "  background-color: #88abfd;\n",
       "  color: #000000;\n",
       "}\n",
       "#T_8c7c5_row4_col3 {\n",
       "  background-color: #6c8ff1;\n",
       "  color: #f1f1f1;\n",
       "}\n",
       "</style>\n",
       "<table id=\"T_8c7c5\">\n",
       "  <thead>\n",
       "    <tr>\n",
       "      <th class=\"blank level0\" >&nbsp;</th>\n",
       "      <th id=\"T_8c7c5_level0_col0\" class=\"col_heading level0 col0\" >sex</th>\n",
       "      <th id=\"T_8c7c5_level0_col1\" class=\"col_heading level0 col1\" >cp</th>\n",
       "      <th id=\"T_8c7c5_level0_col2\" class=\"col_heading level0 col2\" >exang</th>\n",
       "      <th id=\"T_8c7c5_level0_col3\" class=\"col_heading level0 col3\" >slope</th>\n",
       "      <th id=\"T_8c7c5_level0_col4\" class=\"col_heading level0 col4\" >thal</th>\n",
       "    </tr>\n",
       "  </thead>\n",
       "  <tbody>\n",
       "    <tr>\n",
       "      <th id=\"T_8c7c5_level0_row0\" class=\"row_heading level0 row0\" >sex</th>\n",
       "      <td id=\"T_8c7c5_row0_col0\" class=\"data row0 col0\" >1.000000</td>\n",
       "      <td id=\"T_8c7c5_row0_col1\" class=\"data row0 col1\" >0.078621</td>\n",
       "      <td id=\"T_8c7c5_row0_col2\" class=\"data row0 col2\" >0.190396</td>\n",
       "      <td id=\"T_8c7c5_row0_col3\" class=\"data row0 col3\" >0.029293</td>\n",
       "      <td id=\"T_8c7c5_row0_col4\" class=\"data row0 col4\" >0.397816</td>\n",
       "    </tr>\n",
       "    <tr>\n",
       "      <th id=\"T_8c7c5_level0_row1\" class=\"row_heading level0 row1\" >cp</th>\n",
       "      <td id=\"T_8c7c5_row1_col0\" class=\"data row1 col0\" >0.078621</td>\n",
       "      <td id=\"T_8c7c5_row1_col1\" class=\"data row1 col1\" >1.000000</td>\n",
       "      <td id=\"T_8c7c5_row1_col2\" class=\"data row1 col2\" >0.438351</td>\n",
       "      <td id=\"T_8c7c5_row1_col3\" class=\"data row1 col3\" >0.151966</td>\n",
       "      <td id=\"T_8c7c5_row1_col4\" class=\"data row1 col4\" >0.294815</td>\n",
       "    </tr>\n",
       "    <tr>\n",
       "      <th id=\"T_8c7c5_level0_row2\" class=\"row_heading level0 row2\" >exang</th>\n",
       "      <td id=\"T_8c7c5_row2_col0\" class=\"data row2 col0\" >0.190396</td>\n",
       "      <td id=\"T_8c7c5_row2_col1\" class=\"data row2 col1\" >0.438351</td>\n",
       "      <td id=\"T_8c7c5_row2_col2\" class=\"data row2 col2\" >1.000000</td>\n",
       "      <td id=\"T_8c7c5_row2_col3\" class=\"data row2 col3\" >0.214334</td>\n",
       "      <td id=\"T_8c7c5_row2_col4\" class=\"data row2 col4\" >0.303364</td>\n",
       "    </tr>\n",
       "    <tr>\n",
       "      <th id=\"T_8c7c5_level0_row3\" class=\"row_heading level0 row3\" >slope</th>\n",
       "      <td id=\"T_8c7c5_row3_col0\" class=\"data row3 col0\" >0.029293</td>\n",
       "      <td id=\"T_8c7c5_row3_col1\" class=\"data row3 col1\" >0.151966</td>\n",
       "      <td id=\"T_8c7c5_row3_col2\" class=\"data row3 col2\" >0.214334</td>\n",
       "      <td id=\"T_8c7c5_row3_col3\" class=\"data row3 col3\" >1.000000</td>\n",
       "      <td id=\"T_8c7c5_row3_col4\" class=\"data row3 col4\" >0.181306</td>\n",
       "    </tr>\n",
       "    <tr>\n",
       "      <th id=\"T_8c7c5_level0_row4\" class=\"row_heading level0 row4\" >thal</th>\n",
       "      <td id=\"T_8c7c5_row4_col0\" class=\"data row4 col0\" >0.397816</td>\n",
       "      <td id=\"T_8c7c5_row4_col1\" class=\"data row4 col1\" >0.294815</td>\n",
       "      <td id=\"T_8c7c5_row4_col2\" class=\"data row4 col2\" >0.303364</td>\n",
       "      <td id=\"T_8c7c5_row4_col3\" class=\"data row4 col3\" >0.181306</td>\n",
       "      <td id=\"T_8c7c5_row4_col4\" class=\"data row4 col4\" >1.000000</td>\n",
       "    </tr>\n",
       "  </tbody>\n",
       "</table>\n"
      ],
      "text/plain": [
       "<pandas.io.formats.style.Styler at 0x29fe32d78e0>"
      ]
     },
     "execution_count": 177,
     "metadata": {},
     "output_type": "execute_result"
    }
   ],
   "source": [
    "# correlation spearman\n",
    "X_train_cat.corr(method=\"spearman\").abs().style.background_gradient(cmap=\"coolwarm\")"
   ]
  },
  {
   "cell_type": "code",
   "execution_count": 178,
   "metadata": {},
   "outputs": [
    {
     "data": {
      "text/html": [
       "<style type=\"text/css\">\n",
       "#T_0bbc2_row0_col0, #T_0bbc2_row1_col1, #T_0bbc2_row2_col2, #T_0bbc2_row3_col3, #T_0bbc2_row4_col4, #T_0bbc2_row5_col5, #T_0bbc2_row6_col6, #T_0bbc2_row7_col7 {\n",
       "  background-color: #b40426;\n",
       "  color: #f1f1f1;\n",
       "}\n",
       "#T_0bbc2_row0_col1 {\n",
       "  background-color: #88abfd;\n",
       "  color: #000000;\n",
       "}\n",
       "#T_0bbc2_row0_col2 {\n",
       "  background-color: #6e90f2;\n",
       "  color: #f1f1f1;\n",
       "}\n",
       "#T_0bbc2_row0_col3 {\n",
       "  background-color: #6a8bef;\n",
       "  color: #f1f1f1;\n",
       "}\n",
       "#T_0bbc2_row0_col4 {\n",
       "  background-color: #5977e3;\n",
       "  color: #f1f1f1;\n",
       "}\n",
       "#T_0bbc2_row0_col5 {\n",
       "  background-color: #c1d4f4;\n",
       "  color: #000000;\n",
       "}\n",
       "#T_0bbc2_row0_col6 {\n",
       "  background-color: #7295f4;\n",
       "  color: #f1f1f1;\n",
       "}\n",
       "#T_0bbc2_row0_col7 {\n",
       "  background-color: #90b2fe;\n",
       "  color: #000000;\n",
       "}\n",
       "#T_0bbc2_row1_col0 {\n",
       "  background-color: #6b8df0;\n",
       "  color: #f1f1f1;\n",
       "}\n",
       "#T_0bbc2_row1_col2 {\n",
       "  background-color: #4c66d6;\n",
       "  color: #f1f1f1;\n",
       "}\n",
       "#T_0bbc2_row1_col3 {\n",
       "  background-color: #7699f6;\n",
       "  color: #f1f1f1;\n",
       "}\n",
       "#T_0bbc2_row1_col4, #T_0bbc2_row7_col4 {\n",
       "  background-color: #5f7fe8;\n",
       "  color: #f1f1f1;\n",
       "}\n",
       "#T_0bbc2_row1_col5 {\n",
       "  background-color: #3c4ec2;\n",
       "  color: #f1f1f1;\n",
       "}\n",
       "#T_0bbc2_row1_col6 {\n",
       "  background-color: #465ecf;\n",
       "  color: #f1f1f1;\n",
       "}\n",
       "#T_0bbc2_row1_col7, #T_0bbc2_row3_col2, #T_0bbc2_row3_col6, #T_0bbc2_row4_col0, #T_0bbc2_row4_col5, #T_0bbc2_row4_col6, #T_0bbc2_row5_col1, #T_0bbc2_row5_col2, #T_0bbc2_row5_col3, #T_0bbc2_row5_col4 {\n",
       "  background-color: #3b4cc0;\n",
       "  color: #f1f1f1;\n",
       "}\n",
       "#T_0bbc2_row2_col0 {\n",
       "  background-color: #5875e1;\n",
       "  color: #f1f1f1;\n",
       "}\n",
       "#T_0bbc2_row2_col1, #T_0bbc2_row2_col7 {\n",
       "  background-color: #536edd;\n",
       "  color: #f1f1f1;\n",
       "}\n",
       "#T_0bbc2_row2_col3 {\n",
       "  background-color: #3e51c5;\n",
       "  color: #f1f1f1;\n",
       "}\n",
       "#T_0bbc2_row2_col4 {\n",
       "  background-color: #6384eb;\n",
       "  color: #f1f1f1;\n",
       "}\n",
       "#T_0bbc2_row2_col5, #T_0bbc2_row6_col2 {\n",
       "  background-color: #4257c9;\n",
       "  color: #f1f1f1;\n",
       "}\n",
       "#T_0bbc2_row2_col6 {\n",
       "  background-color: #3f53c6;\n",
       "  color: #f1f1f1;\n",
       "}\n",
       "#T_0bbc2_row3_col0, #T_0bbc2_row6_col1 {\n",
       "  background-color: #4f69d9;\n",
       "  color: #f1f1f1;\n",
       "}\n",
       "#T_0bbc2_row3_col1 {\n",
       "  background-color: #779af7;\n",
       "  color: #f1f1f1;\n",
       "}\n",
       "#T_0bbc2_row3_col4 {\n",
       "  background-color: #516ddb;\n",
       "  color: #f1f1f1;\n",
       "}\n",
       "#T_0bbc2_row3_col5 {\n",
       "  background-color: #3d50c3;\n",
       "  color: #f1f1f1;\n",
       "}\n",
       "#T_0bbc2_row3_col7 {\n",
       "  background-color: #6485ec;\n",
       "  color: #f1f1f1;\n",
       "}\n",
       "#T_0bbc2_row4_col1 {\n",
       "  background-color: #5d7ce6;\n",
       "  color: #f1f1f1;\n",
       "}\n",
       "#T_0bbc2_row4_col2 {\n",
       "  background-color: #5b7ae5;\n",
       "  color: #f1f1f1;\n",
       "}\n",
       "#T_0bbc2_row4_col3 {\n",
       "  background-color: #4e68d8;\n",
       "  color: #f1f1f1;\n",
       "}\n",
       "#T_0bbc2_row4_col7 {\n",
       "  background-color: #506bda;\n",
       "  color: #f1f1f1;\n",
       "}\n",
       "#T_0bbc2_row5_col0 {\n",
       "  background-color: #abc8fd;\n",
       "  color: #000000;\n",
       "}\n",
       "#T_0bbc2_row5_col6 {\n",
       "  background-color: #adc9fd;\n",
       "  color: #000000;\n",
       "}\n",
       "#T_0bbc2_row5_col7 {\n",
       "  background-color: #81a4fb;\n",
       "  color: #f1f1f1;\n",
       "}\n",
       "#T_0bbc2_row6_col0 {\n",
       "  background-color: #5e7de7;\n",
       "  color: #f1f1f1;\n",
       "}\n",
       "#T_0bbc2_row6_col3 {\n",
       "  background-color: #4055c8;\n",
       "  color: #f1f1f1;\n",
       "}\n",
       "#T_0bbc2_row6_col4 {\n",
       "  background-color: #445acc;\n",
       "  color: #f1f1f1;\n",
       "}\n",
       "#T_0bbc2_row6_col5 {\n",
       "  background-color: #b5cdfa;\n",
       "  color: #000000;\n",
       "}\n",
       "#T_0bbc2_row6_col7 {\n",
       "  background-color: #89acfd;\n",
       "  color: #000000;\n",
       "}\n",
       "#T_0bbc2_row7_col0 {\n",
       "  background-color: #82a6fb;\n",
       "  color: #f1f1f1;\n",
       "}\n",
       "#T_0bbc2_row7_col1 {\n",
       "  background-color: #485fd1;\n",
       "  color: #f1f1f1;\n",
       "}\n",
       "#T_0bbc2_row7_col2 {\n",
       "  background-color: #5a78e4;\n",
       "  color: #f1f1f1;\n",
       "}\n",
       "#T_0bbc2_row7_col3 {\n",
       "  background-color: #7093f3;\n",
       "  color: #f1f1f1;\n",
       "}\n",
       "#T_0bbc2_row7_col5 {\n",
       "  background-color: #8fb1fe;\n",
       "  color: #000000;\n",
       "}\n",
       "#T_0bbc2_row7_col6 {\n",
       "  background-color: #8db0fe;\n",
       "  color: #000000;\n",
       "}\n",
       "</style>\n",
       "<table id=\"T_0bbc2\">\n",
       "  <thead>\n",
       "    <tr>\n",
       "      <th class=\"blank level0\" >&nbsp;</th>\n",
       "      <th id=\"T_0bbc2_level0_col0\" class=\"col_heading level0 col0\" >age</th>\n",
       "      <th id=\"T_0bbc2_level0_col1\" class=\"col_heading level0 col1\" >trestbps</th>\n",
       "      <th id=\"T_0bbc2_level0_col2\" class=\"col_heading level0 col2\" >chol</th>\n",
       "      <th id=\"T_0bbc2_level0_col3\" class=\"col_heading level0 col3\" >fbs</th>\n",
       "      <th id=\"T_0bbc2_level0_col4\" class=\"col_heading level0 col4\" >restecg</th>\n",
       "      <th id=\"T_0bbc2_level0_col5\" class=\"col_heading level0 col5\" >thalach</th>\n",
       "      <th id=\"T_0bbc2_level0_col6\" class=\"col_heading level0 col6\" >oldpeak</th>\n",
       "      <th id=\"T_0bbc2_level0_col7\" class=\"col_heading level0 col7\" >ca</th>\n",
       "    </tr>\n",
       "  </thead>\n",
       "  <tbody>\n",
       "    <tr>\n",
       "      <th id=\"T_0bbc2_level0_row0\" class=\"row_heading level0 row0\" >age</th>\n",
       "      <td id=\"T_0bbc2_row0_col0\" class=\"data row0 col0\" >1.000000</td>\n",
       "      <td id=\"T_0bbc2_row0_col1\" class=\"data row0 col1\" >0.242166</td>\n",
       "      <td id=\"T_0bbc2_row0_col2\" class=\"data row0 col2\" >0.187714</td>\n",
       "      <td id=\"T_0bbc2_row0_col3\" class=\"data row0 col3\" >0.162945</td>\n",
       "      <td id=\"T_0bbc2_row0_col4\" class=\"data row0 col4\" >0.103325</td>\n",
       "      <td id=\"T_0bbc2_row0_col5\" class=\"data row0 col5\" >0.407587</td>\n",
       "      <td id=\"T_0bbc2_row0_col6\" class=\"data row0 col6\" >0.205622</td>\n",
       "      <td id=\"T_0bbc2_row0_col7\" class=\"data row0 col7\" >0.301078</td>\n",
       "    </tr>\n",
       "    <tr>\n",
       "      <th id=\"T_0bbc2_level0_row1\" class=\"row_heading level0 row1\" >trestbps</th>\n",
       "      <td id=\"T_0bbc2_row1_col0\" class=\"data row1 col0\" >0.242166</td>\n",
       "      <td id=\"T_0bbc2_row1_col1\" class=\"data row1 col1\" >1.000000</td>\n",
       "      <td id=\"T_0bbc2_row1_col2\" class=\"data row1 col2\" >0.090187</td>\n",
       "      <td id=\"T_0bbc2_row1_col3\" class=\"data row1 col3\" >0.199315</td>\n",
       "      <td id=\"T_0bbc2_row1_col4\" class=\"data row1 col4\" >0.122061</td>\n",
       "      <td id=\"T_0bbc2_row1_col5\" class=\"data row1 col5\" >0.010049</td>\n",
       "      <td id=\"T_0bbc2_row1_col6\" class=\"data row1 col6\" >0.077950</td>\n",
       "      <td id=\"T_0bbc2_row1_col7\" class=\"data row1 col7\" >0.055723</td>\n",
       "    </tr>\n",
       "    <tr>\n",
       "      <th id=\"T_0bbc2_level0_row2\" class=\"row_heading level0 row2\" >chol</th>\n",
       "      <td id=\"T_0bbc2_row2_col0\" class=\"data row2 col0\" >0.187714</td>\n",
       "      <td id=\"T_0bbc2_row2_col1\" class=\"data row2 col1\" >0.090187</td>\n",
       "      <td id=\"T_0bbc2_row2_col2\" class=\"data row2 col2\" >1.000000</td>\n",
       "      <td id=\"T_0bbc2_row2_col3\" class=\"data row2 col3\" >0.030658</td>\n",
       "      <td id=\"T_0bbc2_row2_col4\" class=\"data row2 col4\" >0.135911</td>\n",
       "      <td id=\"T_0bbc2_row2_col5\" class=\"data row2 col5\" >0.031801</td>\n",
       "      <td id=\"T_0bbc2_row2_col6\" class=\"data row2 col6\" >0.054819</td>\n",
       "      <td id=\"T_0bbc2_row2_col7\" class=\"data row2 col7\" >0.132022</td>\n",
       "    </tr>\n",
       "    <tr>\n",
       "      <th id=\"T_0bbc2_level0_row3\" class=\"row_heading level0 row3\" >fbs</th>\n",
       "      <td id=\"T_0bbc2_row3_col0\" class=\"data row3 col0\" >0.162945</td>\n",
       "      <td id=\"T_0bbc2_row3_col1\" class=\"data row3 col1\" >0.199315</td>\n",
       "      <td id=\"T_0bbc2_row3_col2\" class=\"data row3 col2\" >0.030658</td>\n",
       "      <td id=\"T_0bbc2_row3_col3\" class=\"data row3 col3\" >1.000000</td>\n",
       "      <td id=\"T_0bbc2_row3_col4\" class=\"data row3 col4\" >0.079521</td>\n",
       "      <td id=\"T_0bbc2_row3_col5\" class=\"data row3 col5\" >0.015820</td>\n",
       "      <td id=\"T_0bbc2_row3_col6\" class=\"data row3 col6\" >0.038117</td>\n",
       "      <td id=\"T_0bbc2_row3_col7\" class=\"data row3 col7\" >0.184629</td>\n",
       "    </tr>\n",
       "    <tr>\n",
       "      <th id=\"T_0bbc2_level0_row4\" class=\"row_heading level0 row4\" >restecg</th>\n",
       "      <td id=\"T_0bbc2_row4_col0\" class=\"data row4 col0\" >0.103325</td>\n",
       "      <td id=\"T_0bbc2_row4_col1\" class=\"data row4 col1\" >0.122061</td>\n",
       "      <td id=\"T_0bbc2_row4_col2\" class=\"data row4 col2\" >0.135911</td>\n",
       "      <td id=\"T_0bbc2_row4_col3\" class=\"data row4 col3\" >0.079521</td>\n",
       "      <td id=\"T_0bbc2_row4_col4\" class=\"data row4 col4\" >1.000000</td>\n",
       "      <td id=\"T_0bbc2_row4_col5\" class=\"data row4 col5\" >0.005288</td>\n",
       "      <td id=\"T_0bbc2_row4_col6\" class=\"data row4 col6\" >0.038169</td>\n",
       "      <td id=\"T_0bbc2_row4_col7\" class=\"data row4 col7\" >0.123223</td>\n",
       "    </tr>\n",
       "    <tr>\n",
       "      <th id=\"T_0bbc2_level0_row5\" class=\"row_heading level0 row5\" >thalach</th>\n",
       "      <td id=\"T_0bbc2_row5_col0\" class=\"data row5 col0\" >0.407587</td>\n",
       "      <td id=\"T_0bbc2_row5_col1\" class=\"data row5 col1\" >0.010049</td>\n",
       "      <td id=\"T_0bbc2_row5_col2\" class=\"data row5 col2\" >0.031801</td>\n",
       "      <td id=\"T_0bbc2_row5_col3\" class=\"data row5 col3\" >0.015820</td>\n",
       "      <td id=\"T_0bbc2_row5_col4\" class=\"data row5 col4\" >0.005288</td>\n",
       "      <td id=\"T_0bbc2_row5_col5\" class=\"data row5 col5\" >1.000000</td>\n",
       "      <td id=\"T_0bbc2_row5_col6\" class=\"data row5 col6\" >0.367592</td>\n",
       "      <td id=\"T_0bbc2_row5_col7\" class=\"data row5 col7\" >0.259173</td>\n",
       "    </tr>\n",
       "    <tr>\n",
       "      <th id=\"T_0bbc2_level0_row6\" class=\"row_heading level0 row6\" >oldpeak</th>\n",
       "      <td id=\"T_0bbc2_row6_col0\" class=\"data row6 col0\" >0.205622</td>\n",
       "      <td id=\"T_0bbc2_row6_col1\" class=\"data row6 col1\" >0.077950</td>\n",
       "      <td id=\"T_0bbc2_row6_col2\" class=\"data row6 col2\" >0.054819</td>\n",
       "      <td id=\"T_0bbc2_row6_col3\" class=\"data row6 col3\" >0.038117</td>\n",
       "      <td id=\"T_0bbc2_row6_col4\" class=\"data row6 col4\" >0.038169</td>\n",
       "      <td id=\"T_0bbc2_row6_col5\" class=\"data row6 col5\" >0.367592</td>\n",
       "      <td id=\"T_0bbc2_row6_col6\" class=\"data row6 col6\" >1.000000</td>\n",
       "      <td id=\"T_0bbc2_row6_col7\" class=\"data row6 col7\" >0.282241</td>\n",
       "    </tr>\n",
       "    <tr>\n",
       "      <th id=\"T_0bbc2_level0_row7\" class=\"row_heading level0 row7\" >ca</th>\n",
       "      <td id=\"T_0bbc2_row7_col0\" class=\"data row7 col0\" >0.301078</td>\n",
       "      <td id=\"T_0bbc2_row7_col1\" class=\"data row7 col1\" >0.055723</td>\n",
       "      <td id=\"T_0bbc2_row7_col2\" class=\"data row7 col2\" >0.132022</td>\n",
       "      <td id=\"T_0bbc2_row7_col3\" class=\"data row7 col3\" >0.184629</td>\n",
       "      <td id=\"T_0bbc2_row7_col4\" class=\"data row7 col4\" >0.123223</td>\n",
       "      <td id=\"T_0bbc2_row7_col5\" class=\"data row7 col5\" >0.259173</td>\n",
       "      <td id=\"T_0bbc2_row7_col6\" class=\"data row7 col6\" >0.282241</td>\n",
       "      <td id=\"T_0bbc2_row7_col7\" class=\"data row7 col7\" >1.000000</td>\n",
       "    </tr>\n",
       "  </tbody>\n",
       "</table>\n"
      ],
      "text/plain": [
       "<pandas.io.formats.style.Styler at 0x29fdebd02b0>"
      ]
     },
     "execution_count": 178,
     "metadata": {},
     "output_type": "execute_result"
    }
   ],
   "source": [
    "# correlation pearson\n",
    "X_train_ord.corr(method=\"pearson\").abs().style.background_gradient(cmap=\"coolwarm\")"
   ]
  },
  {
   "cell_type": "code",
   "execution_count": 179,
   "metadata": {},
   "outputs": [],
   "source": [
    "# No existe una correlacion alta entre los datos"
   ]
  },
  {
   "cell_type": "markdown",
   "metadata": {},
   "source": [
    "## Modelos lineales"
   ]
  },
  {
   "cell_type": "code",
   "execution_count": 180,
   "metadata": {},
   "outputs": [],
   "source": [
    "col_card = [\"cp\", \"slope\", \"thal\"]\n",
    "col_ord = ['age', 'trestbps', 'chol', 'fbs', 'restecg', 'thalach', 'oldpeak', 'ca']"
   ]
  },
  {
   "cell_type": "code",
   "execution_count": 181,
   "metadata": {},
   "outputs": [],
   "source": [
    "X_train, X_test, y_train, y_test = (\n",
    "    DataProcessing(data = data, target = \"num\", test_size = split_size, seed = seed)\n",
    "    .process(col_card, col_ord)\n",
    ")"
   ]
  },
  {
   "cell_type": "markdown",
   "metadata": {},
   "source": [
    "### Regresion Logistica"
   ]
  },
  {
   "cell_type": "code",
   "execution_count": 145,
   "metadata": {},
   "outputs": [
    {
     "data": {
      "text/plain": [
       "num\n",
       "0    160\n",
       "1    137\n",
       "Name: count, dtype: int64"
      ]
     },
     "execution_count": 145,
     "metadata": {},
     "output_type": "execute_result"
    }
   ],
   "source": [
    "data.num.value_counts()"
   ]
  },
  {
   "cell_type": "code",
   "execution_count": 115,
   "metadata": {},
   "outputs": [
    {
     "name": "stdout",
     "output_type": "stream",
     "text": [
      "Regresion logistica\n",
      "Accuracy-Train: 0.8744\n",
      "Accuracy-Test: 0.8222\n"
     ]
    }
   ],
   "source": [
    "model = LogisticRegression(max_iter=1_000).fit(X_train, y_train.values.reshape(-1))\n",
    "\n",
    "print(\"Regresion logistica\")\n",
    "\n",
    "print(f\"Accuracy-Train: {model.score(X_train, y_train):.4f}\")\n",
    "\n",
    "print(f\"Accuracy-Test: {model.score(X_test, y_test):.4f}\")"
   ]
  },
  {
   "cell_type": "code",
   "execution_count": 116,
   "metadata": {},
   "outputs": [
    {
     "data": {
      "text/plain": [
       "array([[40,  8],\n",
       "       [ 8, 34]], dtype=int64)"
      ]
     },
     "execution_count": 116,
     "metadata": {},
     "output_type": "execute_result"
    }
   ],
   "source": [
    "confusion_matrix(y_test, model.predict(X_test))"
   ]
  },
  {
   "cell_type": "markdown",
   "metadata": {},
   "source": [
    "### R.L. con seleccion de variables"
   ]
  },
  {
   "cell_type": "code",
   "execution_count": 213,
   "metadata": {},
   "outputs": [],
   "source": [
    "data_names = X_train.pipe(selection_by_corr, threshold=0.4)\n",
    "X_train_select = X_train[data_names]\n",
    "X_test_select = X_test[data_names]"
   ]
  },
  {
   "cell_type": "code",
   "execution_count": 218,
   "metadata": {},
   "outputs": [
    {
     "data": {
      "text/plain": [
       "array(['age', 'sex', 'trestbps', 'chol', 'fbs', 'restecg', 'exang',\n",
       "       'oldpeak', 'ca', 'cp_2.0', 'cp_3.0', 'slope_2.0', 'slope_3.0',\n",
       "       'thal_6.0'], dtype=object)"
      ]
     },
     "execution_count": 218,
     "metadata": {},
     "output_type": "execute_result"
    }
   ],
   "source": [
    "data_names"
   ]
  },
  {
   "cell_type": "code",
   "execution_count": 215,
   "metadata": {},
   "outputs": [
    {
     "name": "stdout",
     "output_type": "stream",
     "text": [
      "Regresion logistica con variables seleccionadas\n",
      "Accuracy-Train: 0.8599\n",
      "Accuracy-Test: 0.7889\n"
     ]
    }
   ],
   "source": [
    "model = LogisticRegression(max_iter=1_000).fit(X_train_select, y_train.values.reshape(-1))\n",
    "\n",
    "print(\"Regresion logistica con variables seleccionadas\")\n",
    "\n",
    "print(f\"Accuracy-Train: {model.score(X_train_select, y_train):.4f}\")\n",
    "\n",
    "print(f\"Accuracy-Test: {model.score(X_test_select, y_test):.4f}\")"
   ]
  },
  {
   "cell_type": "code",
   "execution_count": 216,
   "metadata": {},
   "outputs": [
    {
     "data": {
      "text/plain": [
       "array([[39,  9],\n",
       "       [10, 32]], dtype=int64)"
      ]
     },
     "execution_count": 216,
     "metadata": {},
     "output_type": "execute_result"
    }
   ],
   "source": [
    "confusion_matrix(y_test, model.predict(X_test_select))"
   ]
  },
  {
   "cell_type": "markdown",
   "metadata": {},
   "source": [
    "### R.L. con PCA"
   ]
  },
  {
   "cell_type": "code",
   "execution_count": 61,
   "metadata": {},
   "outputs": [
    {
     "data": {
      "text/plain": [
       "Text(0, 0.5, 'cumulative explained variance')"
      ]
     },
     "execution_count": 61,
     "metadata": {},
     "output_type": "execute_result"
    },
    {
     "data": {
      "image/png": "[encoded data removed]",
      "text/plain": [
       "<Figure size 432x288 with 1 Axes>"
      ]
     },
     "metadata": {
      "needs_background": "light"
     },
     "output_type": "display_data"
    }
   ],
   "source": [
    "# plot a cumulative explained variance plot\n",
    "pca = PCA().fit(X_train)\n",
    "plt.plot(np.cumsum(pca.explained_variance_ratio_))\n",
    "plt.xlabel(\"number of components\")\n",
    "plt.ylabel(\"cumulative explained variance\")\n",
    "\n",
    "# debido a la estandarizacion de los datos, no se observa un \n",
    "# cambio significativo en la varianza explicada por cada componente"
   ]
  },
  {
   "cell_type": "code",
   "execution_count": 227,
   "metadata": {},
   "outputs": [],
   "source": [
    "pca = PCA(n_components=3).fit(X_train)\n",
    "X_train_pca = pca.transform(X_train)\n",
    "X_test_pca = pca.transform(X_test)"
   ]
  },
  {
   "cell_type": "code",
   "execution_count": 228,
   "metadata": {},
   "outputs": [
    {
     "name": "stdout",
     "output_type": "stream",
     "text": [
      "Regresion logistica con variables seleccionadas de PCA\n",
      "Accuracy-Train: 0.8068\n",
      "Accuracy-Test: 0.7222\n"
     ]
    }
   ],
   "source": [
    "model = LogisticRegression(max_iter=1_000).fit(X_train_pca, y_train.values.reshape(-1))\n",
    "\n",
    "print(\"Regresion logistica con variables seleccionadas de PCA\")\n",
    "\n",
    "print(f\"Accuracy-Train: {model.score(X_train_pca, y_train):.4f}\")\n",
    "\n",
    "print(f\"Accuracy-Test: {model.score(X_test_pca, y_test):.4f}\")"
   ]
  },
  {
   "cell_type": "code",
   "execution_count": 83,
   "metadata": {},
   "outputs": [
    {
     "data": {
      "text/plain": [
       "array([[41,  7],\n",
       "       [13, 29]], dtype=int64)"
      ]
     },
     "execution_count": 83,
     "metadata": {},
     "output_type": "execute_result"
    }
   ],
   "source": [
    "confusion_matrix(y_test, model.predict(X_test_pca))"
   ]
  },
  {
   "cell_type": "markdown",
   "metadata": {},
   "source": [
    "### R.L. con LDA"
   ]
  },
  {
   "cell_type": "code",
   "execution_count": 107,
   "metadata": {},
   "outputs": [],
   "source": [
    "lda = LDA(store_covariance=True).fit(X_train, y_train.values.reshape(-1))\n",
    "\n",
    "X_train_lda = lda.transform(X_train)\n",
    "X_test_lda = lda.transform(X_test)"
   ]
  },
  {
   "cell_type": "code",
   "execution_count": 110,
   "metadata": {},
   "outputs": [
    {
     "name": "stdout",
     "output_type": "stream",
     "text": [
      "Regresion logistica con variables seleccionadas de LDA\n",
      "Accuracy-Train: 0.8696\n",
      "Accuracy-Test: 0.7889\n"
     ]
    }
   ],
   "source": [
    "model = LogisticRegression(max_iter=1_000).fit(X_train_lda, y_train.values.reshape(-1))\n",
    "\n",
    "print(\"Regresion logistica con variables seleccionadas de LDA\")\n",
    "\n",
    "print(f\"Accuracy-Train: {model.score(X_train_lda, y_train):.4f}\")\n",
    "\n",
    "print(f\"Accuracy-Test: {model.score(X_test_lda, y_test):.4f}\")"
   ]
  },
  {
   "cell_type": "code",
   "execution_count": 111,
   "metadata": {},
   "outputs": [
    {
     "data": {
      "text/plain": [
       "array([[37, 11],\n",
       "       [ 8, 34]], dtype=int64)"
      ]
     },
     "execution_count": 111,
     "metadata": {},
     "output_type": "execute_result"
    }
   ],
   "source": [
    "confusion_matrix(y_test, model.predict(X_test_lda))"
   ]
  },
  {
   "cell_type": "code",
   "execution_count": null,
   "metadata": {},
   "outputs": [],
   "source": []
  }
 ],
 "metadata": {
  "kernelspec": {
   "display_name": "Python 3",
   "language": "python",
   "name": "python3"
  },
  "language_info": {
   "codemirror_mode": {
    "name": "ipython",
    "version": 3
   },
   "file_extension": ".py",
   "mimetype": "text/x-python",
   "name": "python",
   "nbconvert_exporter": "python",
   "pygments_lexer": "ipython3",
   "version": "3.9.13"
  },
  "orig_nbformat": 4
 },
 "nbformat": 4,
 "nbformat_minor": 2
}
